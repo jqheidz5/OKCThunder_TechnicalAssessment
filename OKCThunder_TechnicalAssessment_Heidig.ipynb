{
 "cells": [
  {
   "cell_type": "markdown",
   "metadata": {},
   "source": [
    "<img src = https://cdn.nba.com/teams/uploads/sites/1610612760/2021/12/logo.svg width = 300>\n",
    "\n",
    "<h1><center>Oklahoma City Thunder – Data Science & Solutions Technical Assessment</center></h1>\n",
    "<h2><center><em>Justin Heidig</em></center></h2>\n"
   ]
  },
  {
   "cell_type": "code",
   "execution_count": 334,
   "metadata": {},
   "outputs": [
    {
     "data": {
      "text/html": [
       "\n",
       "        <iframe\n",
       "            width=\"600\"\n",
       "            height=\"300\"\n",
       "            src=\"https://okcthunder.app.box.com/s/2ofumtz8wgil8blnu9klwjkhtuc1v8pi\"\n",
       "            frameborder=\"0\"\n",
       "            allowfullscreen\n",
       "        ></iframe>\n",
       "        "
      ],
      "text/plain": [
       "<IPython.lib.display.IFrame at 0x7fad205594c0>"
      ]
     },
     "execution_count": 334,
     "metadata": {},
     "output_type": "execute_result"
    }
   ],
   "source": [
    "from IPython.display import IFrame\n",
    "IFrame(\"https://okcthunder.app.box.com/s/2ofumtz8wgil8blnu9klwjkhtuc1v8pi\", width = 600, height = 300)\n"
   ]
  },
  {
   "cell_type": "markdown",
   "metadata": {},
   "source": [
    "<h2>Importing Packages & Initial Examination</h2>"
   ]
  },
  {
   "cell_type": "code",
   "execution_count": 335,
   "metadata": {},
   "outputs": [
    {
     "data": {
      "text/html": [
       "<div>\n",
       "<style scoped>\n",
       "    .dataframe tbody tr th:only-of-type {\n",
       "        vertical-align: middle;\n",
       "    }\n",
       "\n",
       "    .dataframe tbody tr th {\n",
       "        vertical-align: top;\n",
       "    }\n",
       "\n",
       "    .dataframe thead th {\n",
       "        text-align: right;\n",
       "    }\n",
       "</style>\n",
       "<table border=\"1\" class=\"dataframe\">\n",
       "  <thead>\n",
       "    <tr style=\"text-align: right;\">\n",
       "      <th></th>\n",
       "      <th>team</th>\n",
       "      <th>x</th>\n",
       "      <th>y</th>\n",
       "      <th>fgmade</th>\n",
       "    </tr>\n",
       "  </thead>\n",
       "  <tbody>\n",
       "    <tr>\n",
       "      <th>0</th>\n",
       "      <td>Team A</td>\n",
       "      <td>-23.1</td>\n",
       "      <td>3.5</td>\n",
       "      <td>0</td>\n",
       "    </tr>\n",
       "    <tr>\n",
       "      <th>1</th>\n",
       "      <td>Team A</td>\n",
       "      <td>0.0</td>\n",
       "      <td>25.1</td>\n",
       "      <td>1</td>\n",
       "    </tr>\n",
       "    <tr>\n",
       "      <th>2</th>\n",
       "      <td>Team A</td>\n",
       "      <td>0.5</td>\n",
       "      <td>1.0</td>\n",
       "      <td>1</td>\n",
       "    </tr>\n",
       "    <tr>\n",
       "      <th>3</th>\n",
       "      <td>Team A</td>\n",
       "      <td>-5.6</td>\n",
       "      <td>5.2</td>\n",
       "      <td>0</td>\n",
       "    </tr>\n",
       "    <tr>\n",
       "      <th>4</th>\n",
       "      <td>Team A</td>\n",
       "      <td>4.0</td>\n",
       "      <td>14.5</td>\n",
       "      <td>1</td>\n",
       "    </tr>\n",
       "  </tbody>\n",
       "</table>\n",
       "</div>"
      ],
      "text/plain": [
       "     team     x     y  fgmade\n",
       "0  Team A -23.1   3.5       0\n",
       "1  Team A   0.0  25.1       1\n",
       "2  Team A   0.5   1.0       1\n",
       "3  Team A  -5.6   5.2       0\n",
       "4  Team A   4.0  14.5       1"
      ]
     },
     "execution_count": 335,
     "metadata": {},
     "output_type": "execute_result"
    }
   ],
   "source": [
    "import pandas as pd\n",
    "import numpy as np\n",
    "from IPython.display import display, Markdown\n",
    "df = pd.read_csv(\"/Users/justinheidig/Desktop/OKC Thunder Assessment/shots_data.csv\")\n",
    "df.head()"
   ]
  },
  {
   "cell_type": "code",
   "execution_count": 336,
   "metadata": {},
   "outputs": [
    {
     "name": "stdout",
     "output_type": "stream",
     "text": [
      "team       object\n",
      "x         float64\n",
      "y         float64\n",
      "fgmade      int64\n",
      "dtype: object\n"
     ]
    }
   ],
   "source": [
    "print(df.dtypes)"
   ]
  },
  {
   "cell_type": "markdown",
   "metadata": {},
   "source": [
    "<h2> Main Analysis </h2>"
   ]
  },
  {
   "cell_type": "code",
   "execution_count": 337,
   "metadata": {
    "scrolled": false
   },
   "outputs": [],
   "source": [
    "#Distance of All Shots – Ansolute Value of Vector\n",
    "df['distance'] = np.sqrt(((df['x'])**2 + df['y']**2))"
   ]
  },
  {
   "cell_type": "code",
   "execution_count": 338,
   "metadata": {},
   "outputs": [],
   "source": [
    "#Classifying each shot into Corner 3's, Non Corner 3's, and 2PT\n",
    "conditions = [\n",
    "    (df['y'] > 7.8) & (df['distance'] > 23.75),\n",
    "    (df['y'] <= 7.8) & (df['distance'] > 22),\n",
    "    (df['y'] > 7.8) & (df['distance'] <= 23.75) | (df['y'] <= 7.8) & (df['distance'] <= 22),\n",
    "]\n",
    "\n",
    "values = ['NC3','C3', '2PT']\n",
    "           \n",
    "df['shot_type'] = np.select(conditions, values)"
   ]
  },
  {
   "cell_type": "code",
   "execution_count": 339,
   "metadata": {},
   "outputs": [],
   "source": [
    "#Segmenting each team into a new dataframe\n",
    "TeamA = df.loc[(df['team'] == 'Team A')]\n",
    "TeamB = df.loc[(df['team'] == 'Team B')]"
   ]
  },
  {
   "cell_type": "code",
   "execution_count": 340,
   "metadata": {},
   "outputs": [
    {
     "data": {
      "text/markdown": [
       "<h2>FGM/FGA for Each Shot Type - Team A<h2/>"
      ],
      "text/plain": [
       "<IPython.core.display.Markdown object>"
      ]
     },
     "metadata": {},
     "output_type": "display_data"
    },
    {
     "data": {
      "text/plain": [
       "shot_type  fgmade\n",
       "2PT        0         102\n",
       "           1          68\n",
       "C3         0          12\n",
       "           1           8\n",
       "NC3        0          61\n",
       "           1          29\n",
       "Name: fgmade, dtype: int64"
      ]
     },
     "execution_count": 340,
     "metadata": {},
     "output_type": "execute_result"
    }
   ],
   "source": [
    "display(Markdown(\"<h2>FGM/FGA for Each Shot Type - Team A<h2/>\"))\n",
    "\n",
    "TeamA_ST = TeamA.groupby(['shot_type'])\n",
    "TeamA_ST['fgmade'].value_counts()"
   ]
  },
  {
   "cell_type": "code",
   "execution_count": 341,
   "metadata": {},
   "outputs": [
    {
     "data": {
      "text/markdown": [
       "<h2>FGM/FGA for Each Shot Type - Team B<h2/>"
      ],
      "text/plain": [
       "<IPython.core.display.Markdown object>"
      ]
     },
     "metadata": {},
     "output_type": "display_data"
    },
    {
     "data": {
      "text/plain": [
       "shot_type  fgmade\n",
       "2PT        0         88\n",
       "           1         75\n",
       "C3         0         16\n",
       "           1          5\n",
       "NC3        0         61\n",
       "           1         35\n",
       "Name: fgmade, dtype: int64"
      ]
     },
     "execution_count": 341,
     "metadata": {},
     "output_type": "execute_result"
    }
   ],
   "source": [
    "display(Markdown(\"<h2>FGM/FGA for Each Shot Type - Team B<h2/>\"))\n",
    " \n",
    "TeamB_ST = TeamB.groupby(['shot_type'])\n",
    "TeamB_ST['fgmade'].value_counts()"
   ]
  },
  {
   "cell_type": "code",
   "execution_count": 342,
   "metadata": {},
   "outputs": [
    {
     "data": {
      "text/markdown": [
       "<h2>Shot Distribution - Team A<h2/>"
      ],
      "text/plain": [
       "<IPython.core.display.Markdown object>"
      ]
     },
     "metadata": {},
     "output_type": "display_data"
    },
    {
     "name": "stdout",
     "output_type": "stream",
     "text": [
      "2PT    0.607143\n",
      "NC3    0.321429\n",
      "C3     0.071429\n",
      "Name: shot_type, dtype: float64\n"
     ]
    },
    {
     "data": {
      "text/markdown": [
       "<h2>Shot Distribution - Team B<h2/>"
      ],
      "text/plain": [
       "<IPython.core.display.Markdown object>"
      ]
     },
     "metadata": {},
     "output_type": "display_data"
    },
    {
     "name": "stdout",
     "output_type": "stream",
     "text": [
      "2PT    0.582143\n",
      "NC3    0.342857\n",
      "C3     0.075000\n",
      "Name: shot_type, dtype: float64\n"
     ]
    }
   ],
   "source": [
    "display(Markdown(\"<h2>Shot Distribution - Team A<h2/>\"))\n",
    "\n",
    "#Shot Distribution for Team A\n",
    "print(TeamA['shot_type'].value_counts('2PT'))\n",
    "\n",
    "display(Markdown(\"<h2>Shot Distribution - Team B<h2/>\"))\n",
    "\n",
    "#Shot Distribution for Team B\n",
    "print(TeamB['shot_type'].value_counts('2PT'))"
   ]
  },
  {
   "cell_type": "code",
   "execution_count": 343,
   "metadata": {},
   "outputs": [
    {
     "data": {
      "text/markdown": [
       "<h2>Effective Field Goal Percentage - Team A<h2/>"
      ],
      "text/plain": [
       "<IPython.core.display.Markdown object>"
      ]
     },
     "metadata": {},
     "output_type": "display_data"
    },
    {
     "data": {
      "text/markdown": [
       "<h5>2PT Effective Field Goal Percentage<h5/>"
      ],
      "text/plain": [
       "<IPython.core.display.Markdown object>"
      ]
     },
     "metadata": {},
     "output_type": "display_data"
    },
    {
     "name": "stdout",
     "output_type": "stream",
     "text": [
      "0.4\n"
     ]
    },
    {
     "data": {
      "text/markdown": [
       "<h5>Corner 3 Effective Field Goal Percentage<h5/>"
      ],
      "text/plain": [
       "<IPython.core.display.Markdown object>"
      ]
     },
     "metadata": {},
     "output_type": "display_data"
    },
    {
     "name": "stdout",
     "output_type": "stream",
     "text": [
      "0.6\n"
     ]
    },
    {
     "data": {
      "text/markdown": [
       "<h5>Non Corner 3 Effective Field Goal Percentage<h5/>"
      ],
      "text/plain": [
       "<IPython.core.display.Markdown object>"
      ]
     },
     "metadata": {},
     "output_type": "display_data"
    },
    {
     "name": "stdout",
     "output_type": "stream",
     "text": [
      "0.48333333333333334\n"
     ]
    },
    {
     "data": {
      "text/markdown": [
       "<h2>Effective Field Goal Percentage - Team B<h2/>"
      ],
      "text/plain": [
       "<IPython.core.display.Markdown object>"
      ]
     },
     "metadata": {},
     "output_type": "display_data"
    },
    {
     "data": {
      "text/markdown": [
       "<h5>2PT Effective Field Goal Percentage<h5/>"
      ],
      "text/plain": [
       "<IPython.core.display.Markdown object>"
      ]
     },
     "metadata": {},
     "output_type": "display_data"
    },
    {
     "name": "stdout",
     "output_type": "stream",
     "text": [
      "0.4601226993865031\n"
     ]
    },
    {
     "data": {
      "text/markdown": [
       "<h5>Corner 3 Effective Field Goal Percentage<h5/>"
      ],
      "text/plain": [
       "<IPython.core.display.Markdown object>"
      ]
     },
     "metadata": {},
     "output_type": "display_data"
    },
    {
     "name": "stdout",
     "output_type": "stream",
     "text": [
      "0.35714285714285715\n"
     ]
    },
    {
     "data": {
      "text/markdown": [
       "<h5>Non Corner 3 Effective Field Goal Percentage<h5/>"
      ],
      "text/plain": [
       "<IPython.core.display.Markdown object>"
      ]
     },
     "metadata": {},
     "output_type": "display_data"
    },
    {
     "name": "stdout",
     "output_type": "stream",
     "text": [
      "0.546875\n"
     ]
    }
   ],
   "source": [
    "# eFG%: Effective field goal percentage for each team\n",
    "\n",
    "A_efg_2pt = (TeamA.loc[df['shot_type'] == '2PT','fgmade'].sum())/len(TeamA.loc[df['shot_type'] == '2PT'])\n",
    "\n",
    "A_efg_C3 = (TeamA.loc[df['shot_type'] == 'C3','fgmade'].sum()*1.5)/len(TeamA.loc[df['shot_type'] == 'C3'])\n",
    "\n",
    "A_efg_NC3 = (TeamA.loc[df['shot_type'] == 'NC3','fgmade'].sum()*1.5)/len(TeamA.loc[df['shot_type'] == 'NC3'])\n",
    "\n",
    "B_efg_2pt = (TeamB.loc[df['shot_type'] == '2PT','fgmade'].sum())/len(TeamB.loc[df['shot_type'] == '2PT'])\n",
    "\n",
    "B_efg_C3 = (TeamB.loc[df['shot_type'] == 'C3','fgmade'].sum()*1.5)/len(TeamB.loc[df['shot_type'] == 'C3'])\n",
    "\n",
    "B_efg_NC3 = (TeamB.loc[df['shot_type'] == 'NC3','fgmade'].sum()*1.5)/len(TeamB.loc[df['shot_type'] == 'NC3'])\n",
    "\n",
    "display(Markdown(\"<h2>Effective Field Goal Percentage - Team A<h2/>\"))\n",
    "display(Markdown(\"<h5>2PT Effective Field Goal Percentage<h5/>\"))\n",
    "print(A_efg_2pt)\n",
    "display(Markdown(\"<h5>Corner 3 Effective Field Goal Percentage<h5/>\"))\n",
    "print(A_efg_C3)\n",
    "display(Markdown(\"<h5>Non Corner 3 Effective Field Goal Percentage<h5/>\"))\n",
    "print(A_efg_NC3)\n",
    "\n",
    "display(Markdown(\"<h2>Effective Field Goal Percentage - Team B<h2/>\"))\n",
    "display(Markdown(\"<h5>2PT Effective Field Goal Percentage<h5/>\"))\n",
    "print(B_efg_2pt)\n",
    "display(Markdown(\"<h5>Corner 3 Effective Field Goal Percentage<h5/>\"))\n",
    "print(B_efg_C3)\n",
    "display(Markdown(\"<h5>Non Corner 3 Effective Field Goal Percentage<h5/>\"))\n",
    "print(B_efg_NC3)"
   ]
  }
 ],
 "metadata": {
  "kernelspec": {
   "display_name": "Python 3",
   "language": "python",
   "name": "python3"
  },
  "language_info": {
   "codemirror_mode": {
    "name": "ipython",
    "version": 3
   },
   "file_extension": ".py",
   "mimetype": "text/x-python",
   "name": "python",
   "nbconvert_exporter": "python",
   "pygments_lexer": "ipython3",
   "version": "3.8.5"
  }
 },
 "nbformat": 4,
 "nbformat_minor": 4
}
